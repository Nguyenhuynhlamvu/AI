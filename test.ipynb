{
 "cells": [
  {
   "cell_type": "code",
   "execution_count": 1,
   "metadata": {},
   "outputs": [
    {
     "name": "stdout",
     "output_type": "stream",
     "text": [
      "Requirement already satisfied: gradio_client in /home/xuanai/Python-env/library_robot/lib/python3.8/site-packages (0.7.0)\n",
      "Requirement already satisfied: typing-extensions~=4.0 in /home/xuanai/Python-env/library_robot/lib/python3.8/site-packages (from gradio_client) (4.8.0)\n",
      "Requirement already satisfied: websockets<12.0,>=10.0 in /home/xuanai/Python-env/library_robot/lib/python3.8/site-packages (from gradio_client) (11.0.3)\n",
      "Requirement already satisfied: huggingface-hub>=0.13.0 in /home/xuanai/Python-env/library_robot/lib/python3.8/site-packages (from gradio_client) (0.19.0)\n",
      "Requirement already satisfied: packaging in /home/xuanai/Python-env/library_robot/lib/python3.8/site-packages (from gradio_client) (23.2)\n",
      "Requirement already satisfied: requests~=2.0 in /home/xuanai/Python-env/library_robot/lib/python3.8/site-packages (from gradio_client) (2.31.0)\n",
      "Requirement already satisfied: fsspec in /home/xuanai/Python-env/library_robot/lib/python3.8/site-packages (from gradio_client) (2023.10.0)\n",
      "Requirement already satisfied: httpx in /home/xuanai/Python-env/library_robot/lib/python3.8/site-packages (from gradio_client) (0.25.1)\n",
      "Requirement already satisfied: filelock in /home/xuanai/Python-env/library_robot/lib/python3.8/site-packages (from huggingface-hub>=0.13.0->gradio_client) (3.13.0)\n",
      "Requirement already satisfied: pyyaml>=5.1 in /home/xuanai/Python-env/library_robot/lib/python3.8/site-packages (from huggingface-hub>=0.13.0->gradio_client) (6.0.1)\n",
      "Requirement already satisfied: tqdm>=4.42.1 in /home/xuanai/Python-env/library_robot/lib/python3.8/site-packages (from huggingface-hub>=0.13.0->gradio_client) (4.66.1)\n",
      "Requirement already satisfied: certifi>=2017.4.17 in /home/xuanai/Python-env/library_robot/lib/python3.8/site-packages (from requests~=2.0->gradio_client) (2023.7.22)\n",
      "Requirement already satisfied: urllib3<3,>=1.21.1 in /home/xuanai/Python-env/library_robot/lib/python3.8/site-packages (from requests~=2.0->gradio_client) (2.0.7)\n",
      "Requirement already satisfied: idna<4,>=2.5 in /home/xuanai/Python-env/library_robot/lib/python3.8/site-packages (from requests~=2.0->gradio_client) (3.4)\n",
      "Requirement already satisfied: charset-normalizer<4,>=2 in /home/xuanai/Python-env/library_robot/lib/python3.8/site-packages (from requests~=2.0->gradio_client) (3.3.1)\n",
      "Requirement already satisfied: anyio in /home/xuanai/Python-env/library_robot/lib/python3.8/site-packages (from httpx->gradio_client) (4.0.0)\n",
      "Requirement already satisfied: sniffio in /home/xuanai/Python-env/library_robot/lib/python3.8/site-packages (from httpx->gradio_client) (1.3.0)\n",
      "Requirement already satisfied: httpcore in /home/xuanai/Python-env/library_robot/lib/python3.8/site-packages (from httpx->gradio_client) (1.0.1)\n",
      "Requirement already satisfied: exceptiongroup>=1.0.2; python_version < \"3.11\" in /home/xuanai/Python-env/library_robot/lib/python3.8/site-packages (from anyio->httpx->gradio_client) (1.1.3)\n",
      "Requirement already satisfied: h11<0.15,>=0.13 in /home/xuanai/Python-env/library_robot/lib/python3.8/site-packages (from httpcore->httpx->gradio_client) (0.14.0)\n",
      "Note: you may need to restart the kernel to use updated packages.\n"
     ]
    }
   ],
   "source": [
    "pip install gradio_client"
   ]
  },
  {
   "cell_type": "code",
   "execution_count": 3,
   "metadata": {},
   "outputs": [
    {
     "name": "stdout",
     "output_type": "stream",
     "text": [
      "Loaded as API: https://ntt123-vietnam-male-voice-tts.hf.space/ ✔\n",
      "/tmp/gradio/1a34eec43e8ccdbca4429db2ceced01879579b07/audio.wav\n"
     ]
    }
   ],
   "source": [
    "from gradio_client import Client\n",
    "\n",
    "client = Client(\"https://ntt123-vietnam-male-voice-tts.hf.space/\")\n",
    "result = client.predict(\n",
    "\t\t\t\t\"Nuyễn Tấn Vũ, chôm đồ có tiếng trường đại học sư phạm kĩ thuật\",\t# str in 'text' Textbox component\n",
    "\t\t\t\tapi_name=\"/predict\"\n",
    ")\n",
    "print(result)"
   ]
  }
 ],
 "metadata": {
  "kernelspec": {
   "display_name": "library_robot",
   "language": "python",
   "name": "python3"
  },
  "language_info": {
   "codemirror_mode": {
    "name": "ipython",
    "version": 3
   },
   "file_extension": ".py",
   "mimetype": "text/x-python",
   "name": "python",
   "nbconvert_exporter": "python",
   "pygments_lexer": "ipython3",
   "version": "3.8.10"
  }
 },
 "nbformat": 4,
 "nbformat_minor": 2
}
